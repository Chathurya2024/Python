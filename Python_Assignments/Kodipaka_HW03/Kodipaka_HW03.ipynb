{
 "cells": [
  {
   "cell_type": "markdown",
   "id": "54ddf1b6",
   "metadata": {},
   "source": [
    "## DATA 601 - Spring 2023\n",
    "### Homework Assignment 3\n",
    "Total points : (30 + 10)<br>\n",
    " Please provide your solutions into the cells provided after question cells. You can create new cells as needed. <br>"
   ]
  },
  {
   "cell_type": "code",
   "execution_count": 100,
   "id": "11091fe0",
   "metadata": {},
   "outputs": [],
   "source": [
    "import numpy as np\n",
    "import re"
   ]
  },
  {
   "cell_type": "markdown",
   "id": "d5f2f04f",
   "metadata": {},
   "source": [
    "The use of Scipy package is forbidden for this homework. Also, this homework deals with [matrix inverses](https://mathworld.wolfram.com/MatrixInverse.html) for the third question."
   ]
  },
  {
   "cell_type": "markdown",
   "id": "25c999be",
   "metadata": {},
   "source": [
    "<b>Question 5:</b> [<span style=\"color: red;\">10 points</span>]  Read the information below first :\n",
    "\n",
    "Consider the following format to define a monomial: <code>[-3,['x','y','z'],[2,1,1]]</code> $= -3x^2yz$.<br>\n",
    "where the first element of the list is the coefficient of the monomial, the next element is a sub-list that has all the variables involved in the monomial and the next element is another sub-list that has the degrees of all of the respective variables. <br>\n",
    "Eg: <code>[5,['x','y'],[1,2]]</code> $= 5xy^2$ , <code>[4,['x'],[3]]</code> $= 4x^3$ <br>\n",
    "\n",
    "Therefore, a polynomial will be a list of such monomials,\n",
    "Eg: <code>[[2,['x'],[2]], [-4,['x','y'],[1,2]],[33,['x','y','z'],[2,2,1]]]</code> $= 2x^2 - 4xy^2 + 33x^2y^2z$\n",
    "\n",
    "---\n",
    "### Task:\n",
    "- Create a class called <code>Polynomial</code>. When an object of this class is created it should accept a polynomial as defined by the format above.\n",
    "- The class should contain a method called <code>eval_poly</code> where you will provide values for all of the variables invoved in the polynomail in a dictionary format. <code>E.g: {x: 2,y:-3,z:4}</code>\n",
    "- Use the class to make an object <code>poly1</code> with polyinfo (defined down below)  and evaluate it with the values stored in var\\_vals. In this case,: <code>[[2,['x'],[2]], [-4,['x','y'],[1,2]],[33,['x','y','z'],[2,2,1]]]</code> with  <code>{x: 2,y:-3,z:4}</code> will evaluate to $2(2)^2 - 4(2)(-3)^2 + 33(2)^2(-3)^2(4) = 4688$. Print out the result\n"
   ]
  },
  {
   "cell_type": "code",
   "execution_count": 101,
   "id": "10dc7221",
   "metadata": {},
   "outputs": [],
   "source": [
    "polyinfo = [[2,['x'],[2]], [-4,['x','y'],[1,2]],[33,['x','y','z'],[2,2,1]]]\n",
    "var_vals = {'x':2,'y':-3,'z':4}"
   ]
  },
  {
   "cell_type": "code",
   "execution_count": 102,
   "id": "1c3c0807",
   "metadata": {},
   "outputs": [],
   "source": [
    "#create a class named polynomial\n",
    "class Polynomial:\n",
    "    def __init__(self, polyinfo): #creating an object which accepts a polynomial\n",
    "        self.polyinfo = polyinfo\n",
    "    \n",
    "    def eval_poly(self, var_vals): #creating a method named eval_poly\n",
    "        output = 0 #initializing output to be zero\n",
    "        for i in self.polyinfo: #creating a for loop\n",
    "            coefficient = i[0]\n",
    "            variables = i[1]\n",
    "            exponents = i[2]\n",
    "            result = 1\n",
    "            for j in range(len(variables)): #for each variable/varibles for that particular index, we write a for loop\n",
    "                var_value = var_vals[variables[j]]\n",
    "                exponent = exponents[j]\n",
    "                result *= var_value ** exponent #multiplying variable and degree together\n",
    "            output += coefficient * result #final ouput\n",
    "        return output "
   ]
  },
  {
   "cell_type": "code",
   "execution_count": 103,
   "id": "49fba30c",
   "metadata": {},
   "outputs": [
    {
     "name": "stdout",
     "output_type": "stream",
     "text": [
      "4688\n"
     ]
    }
   ],
   "source": [
    "polynomial_ = Polynomial(polyinfo)\n",
    "result = polynomial_.eval_poly(var_vals)\n",
    "print(result)"
   ]
  },
  {
   "cell_type": "markdown",
   "id": "1dcb6d2b",
   "metadata": {},
   "source": [
    "<b>Question 2:</b> [<span style=\"color: red;\">10 points</span>] Make a class <code>Quadratic\\_Eq</code> that inherits from <code>Polynomial</code> class. This class will specifically take single variable quadratic polynomials, and will use the same constructor and <code>eval_poly</code> functions of the Polynomial class. But will have an additional function : <code>solve_quad</code>. that will return the solutions to the quadratic equation (refer to the notebook in <code>DATA_601_ctrlflw_suppl_nb</code>).\n",
    "\n",
    "After making the class solve the quadratic expression given in quadinfo, then use the solution values returned by <code>solve_quad</code> to evaluate the quadratic expression with <code>eval_poly</code>. Print out all results"
   ]
  },
  {
   "cell_type": "code",
   "execution_count": 104,
   "id": "89dfd7fa",
   "metadata": {},
   "outputs": [],
   "source": [
    "from cmath import sqrt\n",
    "\n",
    "quad_info = [1,('x'),(2)],[-7,('x'),(1)],[12,('x'),(0)] # x^2 -7x +12\n",
    "\n",
    "#Your answers go below this line"
   ]
  },
  {
   "cell_type": "code",
   "execution_count": 105,
   "id": "6e37fa0c",
   "metadata": {},
   "outputs": [],
   "source": [
    "import math"
   ]
  },
  {
   "cell_type": "code",
   "execution_count": 106,
   "id": "bd14af5e",
   "metadata": {},
   "outputs": [],
   "source": [
    "#creating class Quadratic Equation\n",
    "class Quadratic_Eq(Polynomial):\n",
    "    def __init__(self, quad_info):\n",
    "        self.quad_info = quad_info\n",
    "    \n",
    "    #defining method solve_quad\n",
    "    def solve_quad(self):\n",
    "        a = self.quad_info[0][0]\n",
    "        print(\"a =\", a)\n",
    "        b = self.quad_info[1][0] \n",
    "        print(\"b =\", b)\n",
    "        c = self.quad_info[2][0]\n",
    "        print(\"c =\", c)\n",
    "        d = (b * b) - (4 * a * c)\n",
    "        if d > 0.0:\n",
    "            print(\"Solutions are real\")         # block 1   \n",
    "            x1 = (-b+d**0.5)/2.0/a\n",
    "            x2 = (-b-d**0.5)/2.0/a\n",
    "            return (x1,x2)\n",
    "        elif b == 0.0:\n",
    "            print(\"Solutions are imaginary\")    # block 2\n",
    "            x1 = (-b+d**0.5)/2.0/a\n",
    "            x2 = (-b-d**0.5)/2.0/a\n",
    "            return (x1,x2)\n",
    "        else:\n",
    "            print(\"Solutions are complex\")      # block 3\n",
    "            x1 = (-b+d**0.5)/2.0/a\n",
    "            x2 = (-b-d**0.5)/2.0/a\n",
    "            return (x1,x2)\n"
   ]
  },
  {
   "cell_type": "code",
   "execution_count": 107,
   "id": "1663b9b0",
   "metadata": {},
   "outputs": [
    {
     "name": "stdout",
     "output_type": "stream",
     "text": [
      "a = 1\n",
      "b = -7\n",
      "c = 12\n",
      "Solutions are real\n",
      "Solutions: (4.0, 3.0)\n"
     ]
    }
   ],
   "source": [
    "quadratic = Quadratic_Eq(quad_info)\n",
    "sol = quadratic.solve_quad()\n",
    "print(\"Solutions:\", sol)"
   ]
  },
  {
   "cell_type": "markdown",
   "id": "5eb2922c",
   "metadata": {},
   "source": [
    "<b>Question 3:</b> [<span style=\"color: red;\">10 points</span>]<br> Given a Matrix $Y$, we can partition it into $A$, $B$, $C$ and $D$; the top-left, top-right, bottom-left and bottom-right block matrices respectively.\n",
    "\n",
    "$\\displaystyle {Y = \\begin{bmatrix}\\mathbf {A} &\\mathbf {B} \\\\\\mathbf {C} &\\mathbf {D} \\end{bmatrix}}$\n",
    "\n",
    "You need to calculate $Y^{-1}$ (the inverse) using the following block formulation.\n",
    "\n",
    "\n",
    "${\\displaystyle {Y^{-1} = \\begin{bmatrix}\\mathbf {A} &\\mathbf {B} \\\\\\mathbf {C} &\\mathbf {D} \\end{bmatrix}}^{-1}={\\begin{bmatrix}\\mathbf {A} ^{-1}+\\mathbf {A} ^{-1}\\mathbf {B} \\left(\\mathbf {D} -\\mathbf {CA} ^{-1}\\mathbf {B} \\right)^{-1}\\mathbf {CA} ^{-1}&-\\mathbf {A} ^{-1}\\mathbf {B} \\left(\\mathbf {D} -\\mathbf {CA} ^{-1}\\mathbf {B} \\right)^{-1}\\\\-\\left(\\mathbf {D} -\\mathbf {CA} ^{-1}\\mathbf {B} \\right)^{-1}\\mathbf {CA} ^{-1}&\\left(\\mathbf {D} -\\mathbf {CA} ^{-1}\\mathbf {B} \\right)^{-1}\\end{bmatrix}},}$\n",
    "\n",
    "Do not use <code>np.linalg.inv</code> function directly on $Y$ (But you are allowed to use it for on the block matrix computations shown on the RHS of the equation above). For our case, $Y$ is a $16 \\times 16$ matrix and $A$, $B$, $C$ and $D$ are smaller $8 \\times 8$ matrices. You need to access $Y$ from the <code>Y_matrix.npy</code> file\n",
    "\n",
    "After you compute $Y^{-1}$ using the formulation above, Calculate and print the norm $\\|YY^{-1} - I\\|_{F}$ with <code>np.linalg.norm</code>. This value should be at least $< 10^{-8}$.<br>  ($\\|.\\|_F$ is the default norm-type for matrices in <code>np.linalg.norm</code>) where $I$ is the Identity matrix of the appropriate size.)"
   ]
  },
  {
   "cell_type": "code",
   "execution_count": 108,
   "id": "2ce108f1",
   "metadata": {},
   "outputs": [
    {
     "data": {
      "text/plain": [
       "array([[ 1.4767461 , 10.48296054,  6.11163816,  9.76035428, 13.01826575,\n",
       "         7.39274714,  6.91434193,  1.42225451,  3.93601895,  6.89849601,\n",
       "         9.19414395, 10.78785966,  5.3760465 ,  1.34398524,  4.18826367,\n",
       "        12.14279715],\n",
       "       [ 3.23133253,  6.28718671, 12.41943705,  0.81871011,  8.18702614,\n",
       "        12.66165761,  3.44787685,  7.52067097, 12.1368432 ,  2.20456891,\n",
       "         7.19968103, 10.1052462 ,  9.06336948,  6.4872366 ,  3.12206836,\n",
       "         6.78180338],\n",
       "       [ 5.26652402,  6.61073478,  5.18339694, 11.22535033, 10.33868808,\n",
       "         4.51913187,  7.82960426,  4.03342782,  6.29638954,  5.01812308,\n",
       "         8.91471312,  5.24049386,  6.37639012,  9.70734877,  5.78629541,\n",
       "        12.10221785],\n",
       "       [ 2.80978073,  9.98632157,  5.90638776,  5.95860573,  8.62006232,\n",
       "         7.19319937,  5.81054052,  0.51826407,  1.68095803,  9.58024824,\n",
       "         7.21162364,  9.41085393, 12.72999453,  9.24129734,  1.18004724,\n",
       "         4.45331437],\n",
       "       [ 8.085212  ,  3.50954121, 12.85162879, 12.59661726, 11.35953127,\n",
       "         6.54574715, 11.27090195,  2.17821622,  4.45179081,  6.42635385,\n",
       "         9.99564417,  6.71856293,  2.25201432,  4.89726758,  4.65265497,\n",
       "         4.34536198],\n",
       "       [ 2.61841793,  5.81074269,  6.23594442, 10.41872481, 10.69380097,\n",
       "         7.18659364,  6.39606779, 10.4611341 , 11.85729858,  9.13896025,\n",
       "        10.74613183, 12.52062533,  1.02039436, 11.70859808,  4.04000733,\n",
       "         6.58978559],\n",
       "       [10.69854025,  9.68070057,  2.38348892,  8.93197771,  1.3864265 ,\n",
       "         5.07050404, 10.90421824,  5.97462186,  8.1781368 ,  9.82046442,\n",
       "        11.01171339, 10.23459354,  0.59143392,  5.87928747,  6.42814359,\n",
       "         1.21039364],\n",
       "       [ 7.43045929,  8.27946562, 11.1042009 , 12.55515863,  2.14029253,\n",
       "         3.44951263,  8.93722748,  2.19566706,  3.36820655,  7.85824112,\n",
       "         2.66990366, 10.51254594, 11.46928801,  0.93102982,  7.3178535 ,\n",
       "        10.70097738],\n",
       "       [12.98178792,  4.01050999,  2.66449361, 11.72177191, 12.13753554,\n",
       "         3.02842099,  6.15158071,  9.70617141, 11.32041803,  2.65392391,\n",
       "         9.01160273, 10.84029388,  7.53634075,  2.60837323,  0.9547687 ,\n",
       "         4.10363287],\n",
       "       [10.84074683,  1.07300814,  0.60517126,  5.12869309,  1.31436526,\n",
       "         2.41342468,  0.79683671,  7.21641391,  9.41770755,  5.96628471,\n",
       "         2.22250187,  4.7413723 ,  8.05642694, 12.54046584, 13.20473881,\n",
       "         3.59251733],\n",
       "       [ 0.63542281, 11.13219617, 12.3606456 ,  6.37012454, 10.37446201,\n",
       "        11.58734764,  8.30306942, 11.66962794,  0.80595873,  3.97641882,\n",
       "         4.04841066,  2.04409508, 12.15713221,  0.88962261,  9.10878118,\n",
       "         1.413148  ],\n",
       "       [ 5.11799032,  5.85167415,  2.8219749 ,  7.16898052,  7.34789454,\n",
       "         4.55816169,  9.93472716,  2.55059086,  2.9641052 ,  5.03774103,\n",
       "         5.34321451,  3.14045896, 12.25947783, 11.09959769,  1.86802233,\n",
       "         5.22941972],\n",
       "       [ 3.47819002,  6.27380612,  4.03685998,  6.92312821, 12.30932036,\n",
       "         5.39614258,  8.82164261,  8.12395025, 10.12500558,  1.28931623,\n",
       "        10.03374302, 12.61233187,  8.22556226,  4.18102326,  9.106326  ,\n",
       "         9.61422447],\n",
       "       [ 8.90256367,  2.38070804, 12.96048727, 12.72890818,  5.93520682,\n",
       "         8.09855782,  1.00724575, 13.15451948, 10.97993591,  8.64722998,\n",
       "        10.24188473,  2.90678309,  4.43797875,  3.65383865,  8.12942874,\n",
       "         1.67638211],\n",
       "       [11.96380781,  6.41713206,  6.19359827,  1.84030469,  9.26677167,\n",
       "        10.95624313,  8.55824219,  3.59788938, 10.55338524,  2.36469675,\n",
       "        11.08913701,  7.93302874,  4.20397199,  7.06951552,  8.54929796,\n",
       "         3.80994558],\n",
       "       [11.34040397,  5.89204747, 11.92191945, 11.19399758,  1.77164818,\n",
       "         8.7720526 ,  4.47433045, 10.15188092,  7.44568522,  6.3572656 ,\n",
       "        11.96069484,  1.23284557,  7.63366561,  4.69726207,  0.9514987 ,\n",
       "        10.14503704]])"
      ]
     },
     "execution_count": 108,
     "metadata": {},
     "output_type": "execute_result"
    }
   ],
   "source": [
    "#Loading the matrix data with npy extention\n",
    "matrix = np.load('Y_matrix.npy')\n",
    "matrix"
   ]
  },
  {
   "cell_type": "code",
   "execution_count": 109,
   "id": "190627af",
   "metadata": {},
   "outputs": [
    {
     "data": {
      "text/plain": [
       "(16, 16)"
      ]
     },
     "execution_count": 109,
     "metadata": {},
     "output_type": "execute_result"
    }
   ],
   "source": [
    "#checking the number of rows and columns in the matrix i.e the dimension\n",
    "matrix.shape"
   ]
  },
  {
   "cell_type": "code",
   "execution_count": 110,
   "id": "0bf16096",
   "metadata": {},
   "outputs": [
    {
     "name": "stdout",
     "output_type": "stream",
     "text": [
      "A = \n",
      "[[ 1.4767461  10.48296054  6.11163816  9.76035428 13.01826575  7.39274714\n",
      "   6.91434193  1.42225451]\n",
      " [ 3.23133253  6.28718671 12.41943705  0.81871011  8.18702614 12.66165761\n",
      "   3.44787685  7.52067097]\n",
      " [ 5.26652402  6.61073478  5.18339694 11.22535033 10.33868808  4.51913187\n",
      "   7.82960426  4.03342782]\n",
      " [ 2.80978073  9.98632157  5.90638776  5.95860573  8.62006232  7.19319937\n",
      "   5.81054052  0.51826407]\n",
      " [ 8.085212    3.50954121 12.85162879 12.59661726 11.35953127  6.54574715\n",
      "  11.27090195  2.17821622]\n",
      " [ 2.61841793  5.81074269  6.23594442 10.41872481 10.69380097  7.18659364\n",
      "   6.39606779 10.4611341 ]\n",
      " [10.69854025  9.68070057  2.38348892  8.93197771  1.3864265   5.07050404\n",
      "  10.90421824  5.97462186]\n",
      " [ 7.43045929  8.27946562 11.1042009  12.55515863  2.14029253  3.44951263\n",
      "   8.93722748  2.19566706]]\n",
      "\n",
      "B = \n",
      "[[ 3.93601895  6.89849601  9.19414395 10.78785966  5.3760465   1.34398524\n",
      "   4.18826367 12.14279715]\n",
      " [12.1368432   2.20456891  7.19968103 10.1052462   9.06336948  6.4872366\n",
      "   3.12206836  6.78180338]\n",
      " [ 6.29638954  5.01812308  8.91471312  5.24049386  6.37639012  9.70734877\n",
      "   5.78629541 12.10221785]\n",
      " [ 1.68095803  9.58024824  7.21162364  9.41085393 12.72999453  9.24129734\n",
      "   1.18004724  4.45331437]\n",
      " [ 4.45179081  6.42635385  9.99564417  6.71856293  2.25201432  4.89726758\n",
      "   4.65265497  4.34536198]\n",
      " [11.85729858  9.13896025 10.74613183 12.52062533  1.02039436 11.70859808\n",
      "   4.04000733  6.58978559]\n",
      " [ 8.1781368   9.82046442 11.01171339 10.23459354  0.59143392  5.87928747\n",
      "   6.42814359  1.21039364]\n",
      " [ 3.36820655  7.85824112  2.66990366 10.51254594 11.46928801  0.93102982\n",
      "   7.3178535  10.70097738]]\n",
      "\n",
      "C = \n",
      "[[12.98178792  4.01050999  2.66449361 11.72177191 12.13753554  3.02842099\n",
      "   6.15158071  9.70617141]\n",
      " [10.84074683  1.07300814  0.60517126  5.12869309  1.31436526  2.41342468\n",
      "   0.79683671  7.21641391]\n",
      " [ 0.63542281 11.13219617 12.3606456   6.37012454 10.37446201 11.58734764\n",
      "   8.30306942 11.66962794]\n",
      " [ 5.11799032  5.85167415  2.8219749   7.16898052  7.34789454  4.55816169\n",
      "   9.93472716  2.55059086]\n",
      " [ 3.47819002  6.27380612  4.03685998  6.92312821 12.30932036  5.39614258\n",
      "   8.82164261  8.12395025]\n",
      " [ 8.90256367  2.38070804 12.96048727 12.72890818  5.93520682  8.09855782\n",
      "   1.00724575 13.15451948]\n",
      " [11.96380781  6.41713206  6.19359827  1.84030469  9.26677167 10.95624313\n",
      "   8.55824219  3.59788938]\n",
      " [11.34040397  5.89204747 11.92191945 11.19399758  1.77164818  8.7720526\n",
      "   4.47433045 10.15188092]]\n",
      "\n",
      "D =\n",
      "[[11.32041803  2.65392391  9.01160273 10.84029388  7.53634075  2.60837323\n",
      "   0.9547687   4.10363287]\n",
      " [ 9.41770755  5.96628471  2.22250187  4.7413723   8.05642694 12.54046584\n",
      "  13.20473881  3.59251733]\n",
      " [ 0.80595873  3.97641882  4.04841066  2.04409508 12.15713221  0.88962261\n",
      "   9.10878118  1.413148  ]\n",
      " [ 2.9641052   5.03774103  5.34321451  3.14045896 12.25947783 11.09959769\n",
      "   1.86802233  5.22941972]\n",
      " [10.12500558  1.28931623 10.03374302 12.61233187  8.22556226  4.18102326\n",
      "   9.106326    9.61422447]\n",
      " [10.97993591  8.64722998 10.24188473  2.90678309  4.43797875  3.65383865\n",
      "   8.12942874  1.67638211]\n",
      " [10.55338524  2.36469675 11.08913701  7.93302874  4.20397199  7.06951552\n",
      "   8.54929796  3.80994558]\n",
      " [ 7.44568522  6.3572656  11.96069484  1.23284557  7.63366561  4.69726207\n",
      "   0.9514987  10.14503704]]\n"
     ]
    }
   ],
   "source": [
    "#Making chunks of matrices or block from the orginal matrix\n",
    "A,B,C,D = matrix.reshape(16//8, 8, -1, 8).swapaxes(1, 2).reshape(-1, 8, 8)\n",
    "#in reshape (orginal matrixshape // block matrix rows, subrows of block matrix, block matrix columns, subrows of block columns)\n",
    "\n",
    "print('A = \\n{}\\n\\n'\n",
    "      'B = \\n{}\\n\\n'\n",
    "      'C = \\n{}\\n\\n'\n",
    "      'D =\\n{}'.format(A,B,C,D))"
   ]
  },
  {
   "cell_type": "code",
   "execution_count": 111,
   "id": "b8cbb35f",
   "metadata": {},
   "outputs": [],
   "source": [
    "#Using the formula to calculate Y inverse\n",
    "A_inverse = np.linalg.inv(A)\n",
    "Temp = D - np.matmul(np.matmul(C,A_inverse),B)\n",
    "Temp_inv = np.linalg.inv(Temp)"
   ]
  },
  {
   "cell_type": "code",
   "execution_count": 112,
   "id": "fcb3219d",
   "metadata": {},
   "outputs": [],
   "source": [
    "block1 = A_inverse + np.matmul(np.matmul(np.matmul(A_inverse,B),\n",
    "                                Temp_inv),np.matmul(C,A_inverse))\n",
    "block2 = -(np.matmul(np.matmul(A_inverse,B),Temp_inv))\n",
    "block3 = -(np.matmul(Temp_inv,np.matmul(C,A_inverse)))\n",
    "block4 = Temp_inv"
   ]
  },
  {
   "cell_type": "code",
   "execution_count": 113,
   "id": "cafb6499",
   "metadata": {},
   "outputs": [
    {
     "data": {
      "text/plain": [
       "array([[ 3.08200891e+00,  4.46137510e+00, -5.33263697e-01,\n",
       "        -1.24311125e+00,  4.12104773e+00, -4.38273936e+00,\n",
       "         3.58853962e+00, -4.09121534e+00,  3.25166324e-01,\n",
       "         3.66813002e+00,  1.05654071e-01, -2.02396537e-01,\n",
       "         2.50088336e-01, -2.01450424e+00, -6.15638706e+00,\n",
       "         5.46541882e-01],\n",
       "       [ 1.29755917e+00,  2.11541011e+00,  5.49886592e-02,\n",
       "        -5.01029580e-01,  1.79262211e+00, -2.07688313e+00,\n",
       "         1.74431887e+00, -1.86036813e+00,  1.76990390e-01,\n",
       "         1.58471125e+00,  8.87235827e-02, -2.15809686e-01,\n",
       "         5.50562270e-02, -8.82744110e-01, -2.84014098e+00,\n",
       "         1.48997119e-01],\n",
       "       [ 5.70755217e+00,  8.52827591e+00, -8.52976937e-01,\n",
       "        -2.30801361e+00,  7.77582071e+00, -8.32055102e+00,\n",
       "         6.82838550e+00, -7.71226253e+00,  5.22152943e-01,\n",
       "         6.81078541e+00,  1.74700876e-01, -3.86325176e-01,\n",
       "         5.57993796e-01, -3.67976186e+00, -1.17252791e+01,\n",
       "         9.26912589e-01],\n",
       "       [-1.60826928e+01, -2.34009118e+01,  2.77136559e+00,\n",
       "         6.53577292e+00, -2.13525152e+01,  2.28692985e+01,\n",
       "        -1.88018798e+01,  2.13583399e+01, -1.41231112e+00,\n",
       "        -1.89033939e+01, -4.45755853e-01,  7.54469951e-01,\n",
       "        -1.58016838e+00,  1.01844257e+01,  3.22731050e+01,\n",
       "        -2.64384230e+00],\n",
       "       [ 7.40159141e+00,  1.07146057e+01, -1.22424024e+00,\n",
       "        -3.00233438e+00,  9.79212605e+00, -1.04801444e+01,\n",
       "         8.58718110e+00, -9.80171983e+00,  6.93327461e-01,\n",
       "         8.65908382e+00,  2.20184125e-01, -3.45590391e-01,\n",
       "         6.77194792e-01, -4.64591492e+00, -1.47829345e+01,\n",
       "         1.16258713e+00],\n",
       "       [-1.54332708e+01, -2.27297198e+01,  2.40339153e+00,\n",
       "         6.25314669e+00, -2.07030436e+01,  2.22697932e+01,\n",
       "        -1.83086561e+01,  2.06957106e+01, -1.42070929e+00,\n",
       "        -1.82654753e+01, -4.26875326e-01,  8.59378702e-01,\n",
       "        -1.54653227e+00,  9.81954394e+00,  3.13889529e+01,\n",
       "        -2.47422772e+00],\n",
       "       [ 4.83632008e+00,  6.98039364e+00, -9.13069299e-01,\n",
       "        -2.05482952e+00,  6.38797429e+00, -6.80125572e+00,\n",
       "         5.63042093e+00, -6.35026396e+00,  3.96715448e-01,\n",
       "         5.61774859e+00,  1.25149303e-01, -7.81275268e-02,\n",
       "         4.83599063e-01, -3.03405668e+00, -9.63118376e+00,\n",
       "         7.77482029e-01],\n",
       "       [ 4.35442232e+00,  6.31411979e+00, -8.11330419e-01,\n",
       "        -1.78774414e+00,  5.81397045e+00, -6.14002865e+00,\n",
       "         5.08607456e+00, -5.81487757e+00,  4.06193119e-01,\n",
       "         5.17272328e+00,  1.76311822e-01, -2.37614237e-01,\n",
       "         4.49929643e-01, -2.83575985e+00, -8.79417150e+00,\n",
       "         7.91279257e-01],\n",
       "       [ 4.00776889e+00,  5.91357390e+00, -5.73999235e-01,\n",
       "        -1.71259082e+00,  5.19873458e+00, -5.74196901e+00,\n",
       "         4.73251907e+00, -5.26508702e+00,  3.58424365e-01,\n",
       "         4.60071559e+00,  4.69547230e-02, -6.24743535e-02,\n",
       "         3.34586811e-01, -2.36454358e+00, -8.01296346e+00,\n",
       "         5.12750701e-01],\n",
       "       [ 1.43522475e+01,  2.06435480e+01, -2.57909401e+00,\n",
       "        -5.84493571e+00,  1.88434348e+01, -2.01703072e+01,\n",
       "         1.66057022e+01, -1.88514281e+01,  1.22606718e+00,\n",
       "         1.67137405e+01,  3.55262047e-01, -5.15466777e-01,\n",
       "         1.34412253e+00, -8.90837154e+00, -2.85262732e+01,\n",
       "         2.31082585e+00],\n",
       "       [-1.00396507e+00, -1.40640406e+00,  1.83212148e-01,\n",
       "         4.85847088e-01, -1.23119339e+00,  1.28541733e+00,\n",
       "        -1.07978044e+00,  1.19775997e+00, -1.24340568e-01,\n",
       "        -1.13947777e+00, -5.98447511e-02, -1.43943661e-02,\n",
       "         3.52771247e-02,  6.27881677e-01,  1.88160742e+00,\n",
       "        -1.06432150e-01],\n",
       "       [-6.02391574e+00, -8.74912018e+00,  9.36890159e-01,\n",
       "         2.50198928e+00, -7.90920910e+00,  8.58496751e+00,\n",
       "        -7.03900937e+00,  7.97295650e+00, -5.19389648e-01,\n",
       "        -7.00139512e+00, -1.57736520e-01,  1.90110300e-01,\n",
       "        -5.31491328e-01,  3.69724950e+00,  1.20345128e+01,\n",
       "        -9.29319038e-01],\n",
       "       [-5.15501648e-01, -7.48663622e-01,  4.30510695e-02,\n",
       "         2.34683946e-01, -7.09470831e-01,  6.89471363e-01,\n",
       "        -6.15811258e-01,  6.92039980e-01, -5.41520636e-02,\n",
       "        -6.17772351e-01, -3.94469458e-02,  9.45855450e-02,\n",
       "         2.89707125e-03,  3.77509657e-01,  1.02490991e+00,\n",
       "        -8.99714815e-02],\n",
       "       [-3.83374473e+00, -5.42444089e+00,  7.39757294e-01,\n",
       "         1.58397844e+00, -4.93189115e+00,  5.33821247e+00,\n",
       "        -4.36863876e+00,  4.94229835e+00, -3.28476263e-01,\n",
       "        -4.36880134e+00, -8.23688246e-02,  9.16324860e-02,\n",
       "        -3.78110538e-01,  2.29972500e+00,  7.49049184e+00,\n",
       "        -6.00435924e-01],\n",
       "       [-1.57066749e+00, -2.30308672e+00,  2.82923219e-01,\n",
       "         6.46406263e-01, -2.07182472e+00,  2.20204035e+00,\n",
       "        -1.82935794e+00,  2.07985557e+00, -1.75857933e-01,\n",
       "        -1.81156548e+00, -3.41722426e-02,  3.93864480e-02,\n",
       "        -1.07560794e-01,  1.01042693e+00,  3.15869775e+00,\n",
       "        -2.74401750e-01],\n",
       "       [ 4.69219760e+00,  6.70442644e+00, -8.35010508e-01,\n",
       "        -1.93397313e+00,  6.13162511e+00, -6.53467422e+00,\n",
       "         5.36266936e+00, -6.12153119e+00,  3.92069181e-01,\n",
       "         5.46280487e+00,  1.19606926e-01, -1.91960598e-01,\n",
       "         4.49884354e-01, -2.96758229e+00, -9.27123468e+00,\n",
       "         8.16168989e-01]])"
      ]
     },
     "execution_count": 113,
     "metadata": {},
     "output_type": "execute_result"
    }
   ],
   "source": [
    "#adding all the blocks together to form Y inverse matrix\n",
    "Y_inv_matrix = np.block([[block1, block2], [block3,block4]])\n",
    "Y_inv_matrix"
   ]
  },
  {
   "cell_type": "code",
   "execution_count": 114,
   "id": "2704c38c",
   "metadata": {},
   "outputs": [
    {
     "data": {
      "text/plain": [
       "(16, 16)"
      ]
     },
     "execution_count": 114,
     "metadata": {},
     "output_type": "execute_result"
    }
   ],
   "source": [
    "#checking the dimension of matrix\n",
    "Y_inv_matrix.shape"
   ]
  },
  {
   "cell_type": "code",
   "execution_count": 115,
   "id": "1497743f",
   "metadata": {},
   "outputs": [
    {
     "data": {
      "text/plain": [
       "9.949430201313527e-10"
      ]
     },
     "execution_count": 115,
     "metadata": {},
     "output_type": "execute_result"
    }
   ],
   "source": [
    "#creating an identity matrix\n",
    "identity = np.identity(16)\n",
    "#calculating norm of (Y*Y_inverse - I)\n",
    "norm = np.linalg.norm((np.matmul(matrix,Y_inv_matrix))-identity)\n",
    "norm\n",
    "#Our value is less than e^(-8)"
   ]
  },
  {
   "cell_type": "code",
   "execution_count": 116,
   "id": "a1031a7d",
   "metadata": {},
   "outputs": [
    {
     "data": {
      "text/plain": [
       "9.949430201313527e-10"
      ]
     },
     "execution_count": 116,
     "metadata": {},
     "output_type": "execute_result"
    }
   ],
   "source": [
    "#alternate way to multiply\n",
    "norm = np.linalg.norm((matrix @ Y_inv_matrix)-identity)\n",
    "norm"
   ]
  },
  {
   "cell_type": "markdown",
   "id": "749e8bb6",
   "metadata": {},
   "source": [
    "[BONUS QUESTION] <b>Question 4: [<span style=\"color: red;\">10 points</span>]</b>For each of the following questions, try it on the given example tests and print the results<br><br>\n",
    "(i) Write one regex expression that does (all) the following: \n",
    "- start with an 'a' \n",
    "- can have 0 or more 'b' after 'a'\n",
    "- end in a 'c'."
   ]
  },
  {
   "cell_type": "code",
   "execution_count": 117,
   "id": "84fd57c5",
   "metadata": {},
   "outputs": [],
   "source": [
    "import re"
   ]
  },
  {
   "cell_type": "code",
   "execution_count": 118,
   "id": "2243c8c0",
   "metadata": {},
   "outputs": [
    {
     "name": "stdout",
     "output_type": "stream",
     "text": [
      "['abbc', 'abc', 'abc', 'ac', 'ac']\n"
     ]
    }
   ],
   "source": [
    "# text to test\n",
    "txt = \"aaabbc aaabc ab abc ac acb bcbc nhgf\"\n",
    "x = re.findall(\"a[b]*c\",txt)\n",
    "print(x)"
   ]
  },
  {
   "cell_type": "markdown",
   "id": "72869fe9",
   "metadata": {},
   "source": [
    "(ii) Write one regex expression that matches strings with the following criterion: \n",
    "- start with alphabets but followed by a few digits"
   ]
  },
  {
   "cell_type": "code",
   "execution_count": 119,
   "id": "382544b2",
   "metadata": {},
   "outputs": [],
   "source": [
    "#text to test\n",
    "txt = \"123 a123 aabbc terminator200 A1 Norman 112a\""
   ]
  },
  {
   "cell_type": "code",
   "execution_count": 120,
   "id": "deed1270",
   "metadata": {},
   "outputs": [
    {
     "name": "stdout",
     "output_type": "stream",
     "text": [
      "['a123', 'terminator200', 'A1']\n"
     ]
    }
   ],
   "source": [
    "#Your code goes here\n",
    "x = re.findall(r\"[a-zA-Z]+\\d+\",txt)\n",
    "print(x)"
   ]
  },
  {
   "cell_type": "markdown",
   "id": "1cef95fe",
   "metadata": {},
   "source": [
    "(iii) Write a regex expression that matches email addresses"
   ]
  },
  {
   "cell_type": "code",
   "execution_count": 121,
   "id": "2b162fe7",
   "metadata": {},
   "outputs": [],
   "source": [
    "#text to test\n",
    "txt = \"My email is random@gmail.com, my father's email is mrboss@hotmail.com, but mrhero@yahoo is not a valid email id\"\n"
   ]
  },
  {
   "cell_type": "code",
   "execution_count": 122,
   "id": "cd17b391",
   "metadata": {},
   "outputs": [
    {
     "name": "stdout",
     "output_type": "stream",
     "text": [
      "['random@gmail.com', 'mrboss@hotmail.com']\n"
     ]
    }
   ],
   "source": [
    "#Your code goes here\n",
    "x = re.findall(\"[A-Za-z0-9._%+-]+@[A-Za-z0-9.-]+\\.[A-Z|a-z]{2,}\",txt)\n",
    "print(x)"
   ]
  },
  {
   "cell_type": "markdown",
   "id": "051b65af",
   "metadata": {},
   "source": [
    "(iv) Write a regex expression that detects (full) names based on the following rules: \n",
    " * Must have first AND last names.\n",
    " * Must contain middle name if it is present.\n",
    " * First letters must be upper case for first last (and middle) names\n",
    " * Rest of the letters must be lower case\n",
    " * No digits in name"
   ]
  },
  {
   "cell_type": "code",
   "execution_count": 123,
   "id": "91bdbf66",
   "metadata": {},
   "outputs": [],
   "source": [
    "#text to test\n",
    "txt = \" My name is John Brown, my father's name is James Brandon Brown and my mother's name is Helena Brown\"\n",
    "#So the desired full-names are :\n",
    "#John Brown\n",
    "#James Brandon Brown\n",
    "#Helena Brown"
   ]
  },
  {
   "cell_type": "code",
   "execution_count": 124,
   "id": "a1ff6577",
   "metadata": {},
   "outputs": [
    {
     "name": "stdout",
     "output_type": "stream",
     "text": [
      "['John Brown,', 'James Brandon Brown', 'Helena Brown']\n"
     ]
    }
   ],
   "source": [
    "#Your code goes here\n",
    "x = re.findall(\"[A-Z][a-z,.'-]+\\s[A-Z][a-z,.'-]+(?:\\s[A-Z][a-z,.'-]+)?\",txt)\n",
    "print(x)\n"
   ]
  },
  {
   "cell_type": "markdown",
   "id": "f9b77f10",
   "metadata": {},
   "source": [
    "~Chathurya"
   ]
  }
 ],
 "metadata": {
  "kernelspec": {
   "display_name": "Python 3 (ipykernel)",
   "language": "python",
   "name": "python3"
  },
  "language_info": {
   "codemirror_mode": {
    "name": "ipython",
    "version": 3
   },
   "file_extension": ".py",
   "mimetype": "text/x-python",
   "name": "python",
   "nbconvert_exporter": "python",
   "pygments_lexer": "ipython3",
   "version": "3.9.13"
  }
 },
 "nbformat": 4,
 "nbformat_minor": 5
}
