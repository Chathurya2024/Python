{
 "cells": [
  {
   "cell_type": "markdown",
   "id": "39d86313",
   "metadata": {},
   "source": [
    "## DATA 601 - Spring 2023\n",
    "### Homework Assignment 6\n",
    "Total points : (30 + 10)<br>\n",
    " Please provide your solutions into the cells provided after question cells. You can create new cells as needed. <br>"
   ]
  },
  {
   "cell_type": "code",
   "execution_count": 1,
   "id": "b438d375",
   "metadata": {},
   "outputs": [],
   "source": [
    "import numpy as np\n",
    "import pandas as pd\n",
    "import seaborn as sns "
   ]
  },
  {
   "cell_type": "markdown",
   "id": "2696317b",
   "metadata": {},
   "source": [
    "The data from the <code>Fish.csv</code> looks like this"
   ]
  },
  {
   "cell_type": "code",
   "execution_count": 2,
   "id": "71180f44",
   "metadata": {},
   "outputs": [
    {
     "data": {
      "text/html": [
       "<div>\n",
       "<style scoped>\n",
       "    .dataframe tbody tr th:only-of-type {\n",
       "        vertical-align: middle;\n",
       "    }\n",
       "\n",
       "    .dataframe tbody tr th {\n",
       "        vertical-align: top;\n",
       "    }\n",
       "\n",
       "    .dataframe thead th {\n",
       "        text-align: right;\n",
       "    }\n",
       "</style>\n",
       "<table border=\"1\" class=\"dataframe\">\n",
       "  <thead>\n",
       "    <tr style=\"text-align: right;\">\n",
       "      <th></th>\n",
       "      <th>Species</th>\n",
       "      <th>Weight</th>\n",
       "      <th>Length1</th>\n",
       "      <th>Length2</th>\n",
       "      <th>Length3</th>\n",
       "      <th>Height</th>\n",
       "      <th>Width</th>\n",
       "    </tr>\n",
       "  </thead>\n",
       "  <tbody>\n",
       "    <tr>\n",
       "      <th>0</th>\n",
       "      <td>Bream</td>\n",
       "      <td>242.0</td>\n",
       "      <td>23.2</td>\n",
       "      <td>25.4</td>\n",
       "      <td>30.0</td>\n",
       "      <td>11.5200</td>\n",
       "      <td>4.0200</td>\n",
       "    </tr>\n",
       "    <tr>\n",
       "      <th>1</th>\n",
       "      <td>Bream</td>\n",
       "      <td>290.0</td>\n",
       "      <td>24.0</td>\n",
       "      <td>26.3</td>\n",
       "      <td>31.2</td>\n",
       "      <td>12.4800</td>\n",
       "      <td>4.3056</td>\n",
       "    </tr>\n",
       "    <tr>\n",
       "      <th>2</th>\n",
       "      <td>Bream</td>\n",
       "      <td>340.0</td>\n",
       "      <td>23.9</td>\n",
       "      <td>26.5</td>\n",
       "      <td>31.1</td>\n",
       "      <td>12.3778</td>\n",
       "      <td>4.6961</td>\n",
       "    </tr>\n",
       "    <tr>\n",
       "      <th>3</th>\n",
       "      <td>Bream</td>\n",
       "      <td>363.0</td>\n",
       "      <td>26.3</td>\n",
       "      <td>29.0</td>\n",
       "      <td>33.5</td>\n",
       "      <td>12.7300</td>\n",
       "      <td>4.4555</td>\n",
       "    </tr>\n",
       "    <tr>\n",
       "      <th>4</th>\n",
       "      <td>Bream</td>\n",
       "      <td>430.0</td>\n",
       "      <td>26.5</td>\n",
       "      <td>29.0</td>\n",
       "      <td>34.0</td>\n",
       "      <td>12.4440</td>\n",
       "      <td>5.1340</td>\n",
       "    </tr>\n",
       "  </tbody>\n",
       "</table>\n",
       "</div>"
      ],
      "text/plain": [
       "  Species  Weight  Length1  Length2  Length3   Height   Width\n",
       "0   Bream   242.0     23.2     25.4     30.0  11.5200  4.0200\n",
       "1   Bream   290.0     24.0     26.3     31.2  12.4800  4.3056\n",
       "2   Bream   340.0     23.9     26.5     31.1  12.3778  4.6961\n",
       "3   Bream   363.0     26.3     29.0     33.5  12.7300  4.4555\n",
       "4   Bream   430.0     26.5     29.0     34.0  12.4440  5.1340"
      ]
     },
     "execution_count": 2,
     "metadata": {},
     "output_type": "execute_result"
    }
   ],
   "source": [
    "data = pd.read_csv('Fish.csv')\n",
    "df = data.copy()\n",
    "#Removing outliers\n",
    "df = df.drop([142,143,144])\n",
    "df.head()"
   ]
  },
  {
   "cell_type": "markdown",
   "id": "f8aecb0d",
   "metadata": {},
   "source": [
    "The meaning of columns are as follows :\n",
    "* Species: Species name of fish\n",
    "* Weight: Weight of fish in gram\n",
    "* Length1: Vertical length in cm\n",
    "* Length2: Diagonal length in cm\n",
    "* Length3: Cross length in cm\n",
    "* Height: Height in cm\n",
    "* Width: Diagonal width in cm\n",
    "\n",
    "Our <b>dependent</b> variable is 'Weight'. <b>Independent</b> variables are 'length1', 'length2', 'height' and 'width' (ignore 'species')."
   ]
  },
  {
   "cell_type": "markdown",
   "id": "f3a69aeb",
   "metadata": {},
   "source": [
    "<b>Question 1</b> [<span style=\"color: red;\">4 + 3 + 3 = 10 points</span>]:<br>\n",
    "- Choose two independent variables for predicting the weight of the fish. Justify your choice (in a comment) and show your work (Hint : correlation matrix)\n",
    "- Create a <code>X</code> and <code>y</code> from the Independent (excluding species) and dependent variables respectively.\n",
    "- Do a train-test split of 80%-20% and create <code>X_train,y_train</code> and <code>X_test,y_test</code>. Print out all their shapes."
   ]
  },
  {
   "cell_type": "code",
   "execution_count": 3,
   "id": "38c3298b",
   "metadata": {},
   "outputs": [
    {
     "data": {
      "text/html": [
       "<div>\n",
       "<style scoped>\n",
       "    .dataframe tbody tr th:only-of-type {\n",
       "        vertical-align: middle;\n",
       "    }\n",
       "\n",
       "    .dataframe tbody tr th {\n",
       "        vertical-align: top;\n",
       "    }\n",
       "\n",
       "    .dataframe thead th {\n",
       "        text-align: right;\n",
       "    }\n",
       "</style>\n",
       "<table border=\"1\" class=\"dataframe\">\n",
       "  <thead>\n",
       "    <tr style=\"text-align: right;\">\n",
       "      <th></th>\n",
       "      <th>Weight</th>\n",
       "      <th>Length1</th>\n",
       "      <th>Length2</th>\n",
       "      <th>Length3</th>\n",
       "      <th>Height</th>\n",
       "      <th>Width</th>\n",
       "    </tr>\n",
       "  </thead>\n",
       "  <tbody>\n",
       "    <tr>\n",
       "      <th>Weight</th>\n",
       "      <td>1.000000</td>\n",
       "      <td>0.915712</td>\n",
       "      <td>0.918618</td>\n",
       "      <td>0.923044</td>\n",
       "      <td>0.724345</td>\n",
       "      <td>0.886507</td>\n",
       "    </tr>\n",
       "    <tr>\n",
       "      <th>Length1</th>\n",
       "      <td>0.915712</td>\n",
       "      <td>1.000000</td>\n",
       "      <td>0.999517</td>\n",
       "      <td>0.992031</td>\n",
       "      <td>0.625378</td>\n",
       "      <td>0.867050</td>\n",
       "    </tr>\n",
       "    <tr>\n",
       "      <th>Length2</th>\n",
       "      <td>0.918618</td>\n",
       "      <td>0.999517</td>\n",
       "      <td>1.000000</td>\n",
       "      <td>0.994103</td>\n",
       "      <td>0.640441</td>\n",
       "      <td>0.873547</td>\n",
       "    </tr>\n",
       "    <tr>\n",
       "      <th>Length3</th>\n",
       "      <td>0.923044</td>\n",
       "      <td>0.992031</td>\n",
       "      <td>0.994103</td>\n",
       "      <td>1.000000</td>\n",
       "      <td>0.703409</td>\n",
       "      <td>0.878520</td>\n",
       "    </tr>\n",
       "    <tr>\n",
       "      <th>Height</th>\n",
       "      <td>0.724345</td>\n",
       "      <td>0.625378</td>\n",
       "      <td>0.640441</td>\n",
       "      <td>0.703409</td>\n",
       "      <td>1.000000</td>\n",
       "      <td>0.792881</td>\n",
       "    </tr>\n",
       "    <tr>\n",
       "      <th>Width</th>\n",
       "      <td>0.886507</td>\n",
       "      <td>0.867050</td>\n",
       "      <td>0.873547</td>\n",
       "      <td>0.878520</td>\n",
       "      <td>0.792881</td>\n",
       "      <td>1.000000</td>\n",
       "    </tr>\n",
       "  </tbody>\n",
       "</table>\n",
       "</div>"
      ],
      "text/plain": [
       "           Weight   Length1   Length2   Length3    Height     Width\n",
       "Weight   1.000000  0.915712  0.918618  0.923044  0.724345  0.886507\n",
       "Length1  0.915712  1.000000  0.999517  0.992031  0.625378  0.867050\n",
       "Length2  0.918618  0.999517  1.000000  0.994103  0.640441  0.873547\n",
       "Length3  0.923044  0.992031  0.994103  1.000000  0.703409  0.878520\n",
       "Height   0.724345  0.625378  0.640441  0.703409  1.000000  0.792881\n",
       "Width    0.886507  0.867050  0.873547  0.878520  0.792881  1.000000"
      ]
     },
     "execution_count": 3,
     "metadata": {},
     "output_type": "execute_result"
    }
   ],
   "source": [
    "#Correaltion between all the variables in the data set\n",
    "data.corr()"
   ]
  },
  {
   "cell_type": "code",
   "execution_count": 4,
   "id": "9653f9d9",
   "metadata": {},
   "outputs": [
    {
     "name": "stdout",
     "output_type": "stream",
     "text": [
      "           Weight   Length3    Height\n",
      "Weight   1.000000  0.923044  0.724345\n",
      "Length3  0.923044  1.000000  0.703409\n",
      "Height   0.724345  0.703409  1.000000\n"
     ]
    }
   ],
   "source": [
    "#Your code goes below\n",
    "\n",
    "new_data = data[[\"Weight\", \"Length3\", \"Height\"]]\n",
    "new_data\n",
    "\n",
    "# Calculating the correlation matrix\n",
    "correlation_matrix = new_data.corr()\n",
    "\n",
    "# Print the correlation matrix\n",
    "print(correlation_matrix)"
   ]
  },
  {
   "cell_type": "code",
   "execution_count": 5,
   "id": "7df91611",
   "metadata": {},
   "outputs": [
    {
     "data": {
      "text/html": [
       "<div>\n",
       "<style scoped>\n",
       "    .dataframe tbody tr th:only-of-type {\n",
       "        vertical-align: middle;\n",
       "    }\n",
       "\n",
       "    .dataframe tbody tr th {\n",
       "        vertical-align: top;\n",
       "    }\n",
       "\n",
       "    .dataframe thead th {\n",
       "        text-align: right;\n",
       "    }\n",
       "</style>\n",
       "<table border=\"1\" class=\"dataframe\">\n",
       "  <thead>\n",
       "    <tr style=\"text-align: right;\">\n",
       "      <th></th>\n",
       "      <th>Weight</th>\n",
       "      <th>Length3</th>\n",
       "      <th>Height</th>\n",
       "    </tr>\n",
       "  </thead>\n",
       "  <tbody>\n",
       "    <tr>\n",
       "      <th>0</th>\n",
       "      <td>242.0</td>\n",
       "      <td>30.0</td>\n",
       "      <td>11.5200</td>\n",
       "    </tr>\n",
       "    <tr>\n",
       "      <th>1</th>\n",
       "      <td>290.0</td>\n",
       "      <td>31.2</td>\n",
       "      <td>12.4800</td>\n",
       "    </tr>\n",
       "    <tr>\n",
       "      <th>2</th>\n",
       "      <td>340.0</td>\n",
       "      <td>31.1</td>\n",
       "      <td>12.3778</td>\n",
       "    </tr>\n",
       "    <tr>\n",
       "      <th>3</th>\n",
       "      <td>363.0</td>\n",
       "      <td>33.5</td>\n",
       "      <td>12.7300</td>\n",
       "    </tr>\n",
       "    <tr>\n",
       "      <th>4</th>\n",
       "      <td>430.0</td>\n",
       "      <td>34.0</td>\n",
       "      <td>12.4440</td>\n",
       "    </tr>\n",
       "    <tr>\n",
       "      <th>...</th>\n",
       "      <td>...</td>\n",
       "      <td>...</td>\n",
       "      <td>...</td>\n",
       "    </tr>\n",
       "    <tr>\n",
       "      <th>154</th>\n",
       "      <td>12.2</td>\n",
       "      <td>13.4</td>\n",
       "      <td>2.0904</td>\n",
       "    </tr>\n",
       "    <tr>\n",
       "      <th>155</th>\n",
       "      <td>13.4</td>\n",
       "      <td>13.5</td>\n",
       "      <td>2.4300</td>\n",
       "    </tr>\n",
       "    <tr>\n",
       "      <th>156</th>\n",
       "      <td>12.2</td>\n",
       "      <td>13.8</td>\n",
       "      <td>2.2770</td>\n",
       "    </tr>\n",
       "    <tr>\n",
       "      <th>157</th>\n",
       "      <td>19.7</td>\n",
       "      <td>15.2</td>\n",
       "      <td>2.8728</td>\n",
       "    </tr>\n",
       "    <tr>\n",
       "      <th>158</th>\n",
       "      <td>19.9</td>\n",
       "      <td>16.2</td>\n",
       "      <td>2.9322</td>\n",
       "    </tr>\n",
       "  </tbody>\n",
       "</table>\n",
       "<p>159 rows × 3 columns</p>\n",
       "</div>"
      ],
      "text/plain": [
       "     Weight  Length3   Height\n",
       "0     242.0     30.0  11.5200\n",
       "1     290.0     31.2  12.4800\n",
       "2     340.0     31.1  12.3778\n",
       "3     363.0     33.5  12.7300\n",
       "4     430.0     34.0  12.4440\n",
       "..      ...      ...      ...\n",
       "154    12.2     13.4   2.0904\n",
       "155    13.4     13.5   2.4300\n",
       "156    12.2     13.8   2.2770\n",
       "157    19.7     15.2   2.8728\n",
       "158    19.9     16.2   2.9322\n",
       "\n",
       "[159 rows x 3 columns]"
      ]
     },
     "execution_count": 5,
     "metadata": {},
     "output_type": "execute_result"
    }
   ],
   "source": [
    "#creating data frame for the new_data\n",
    "df_data = pd.DataFrame(new_data)\n",
    "df_data"
   ]
  },
  {
   "cell_type": "code",
   "execution_count": 6,
   "id": "8693cc70",
   "metadata": {},
   "outputs": [
    {
     "name": "stdout",
     "output_type": "stream",
     "text": [
      "Variables:       Height  Length3\n",
      "0    11.5200     30.0\n",
      "1    12.4800     31.2\n",
      "2    12.3778     31.1\n",
      "3    12.7300     33.5\n",
      "4    12.4440     34.0\n",
      "..       ...      ...\n",
      "154   2.0904     13.4\n",
      "155   2.4300     13.5\n",
      "156   2.2770     13.8\n",
      "157   2.8728     15.2\n",
      "158   2.9322     16.2\n",
      "\n",
      "[159 rows x 2 columns],0      242.0\n",
      "1      290.0\n",
      "2      340.0\n",
      "3      363.0\n",
      "4      430.0\n",
      "       ...  \n",
      "154     12.2\n",
      "155     13.4\n",
      "156     12.2\n",
      "157     19.7\n",
      "158     19.9\n",
      "Name: Weight, Length: 159, dtype: float64\n"
     ]
    }
   ],
   "source": [
    "#Create a X and y from the Independent  and dependent variables respectively\n",
    "Y_dep = df_data[\"Weight\"]\n",
    "X_ind = df_data[[\"Height\",\"Length3\"]]\n",
    "print(f\"Variables: {X_ind},{Y_dep}\")"
   ]
  },
  {
   "cell_type": "code",
   "execution_count": 7,
   "id": "f23648cd",
   "metadata": {},
   "outputs": [
    {
     "name": "stdout",
     "output_type": "stream",
     "text": [
      "X_train shape: (127, 2)\n",
      "Y_train shape: (127,)\n",
      "X_test shape: (32, 2)\n",
      "Y_test shape: (32,)\n"
     ]
    }
   ],
   "source": [
    "#Doing a train-test split of 80%-20% and creating X_train,y_train and X_test,y_test.\n",
    "from sklearn.model_selection import train_test_split\n",
    "\n",
    "X_train, X_test, Y_train, Y_test = train_test_split(X_ind, Y_dep, test_size=0.2, random_state=42)\n",
    "\n",
    "# print out the shapes of the training and testing sets\n",
    "print(\"X_train shape:\", X_train.shape)\n",
    "print(\"Y_train shape:\", Y_train.shape)\n",
    "print(\"X_test shape:\", X_test.shape)\n",
    "print(\"Y_test shape:\", Y_test.shape)"
   ]
  },
  {
   "cell_type": "markdown",
   "id": "c45dd32e",
   "metadata": {},
   "source": [
    "<b>Question 2</b> [<span style=\"color: red;\">4+2+2+2 = 10 points</span>]:<br>\n",
    "- Use linear regression from scikit learn to train (fit) on <code>X_train,y_train</code>\n",
    "- Show the intercept and coefficients from the fitted model\n",
    "- Use <code>X_test</code> to predict <code>y_pred_test</code>.\n",
    "- Calculate absolute and relative errors between <code>y_pred_test</code> and <code>y_test</code>"
   ]
  },
  {
   "cell_type": "code",
   "execution_count": 8,
   "id": "e1a71e89",
   "metadata": {},
   "outputs": [
    {
     "data": {
      "text/plain": [
       "LinearRegression()"
      ]
     },
     "execution_count": 8,
     "metadata": {},
     "output_type": "execute_result"
    }
   ],
   "source": [
    "#Using Linear Regresssion to train\n",
    "from sklearn.linear_model import LinearRegression\n",
    "model = LinearRegression(fit_intercept = True)\n",
    "model.fit(X_train, Y_train)"
   ]
  },
  {
   "cell_type": "code",
   "execution_count": 9,
   "id": "712708d3",
   "metadata": {},
   "outputs": [
    {
     "name": "stdout",
     "output_type": "stream",
     "text": [
      "beta_0: -511.36476722758084\n",
      "beta_1, beta_2: [10.76888973 25.78265944]\n"
     ]
    }
   ],
   "source": [
    "#Printing the intercept and coefficients values from the fitted model\n",
    "print(\"beta_0:\", model.intercept_)\n",
    "print(\"beta_1, beta_2:\", model.coef_)"
   ]
  },
  {
   "cell_type": "code",
   "execution_count": 10,
   "id": "a37f24c4",
   "metadata": {},
   "outputs": [],
   "source": [
    "#Using X_test to predict y_pred_test\n",
    "y_pred_test = model.predict(X_test)"
   ]
  },
  {
   "cell_type": "code",
   "execution_count": 11,
   "id": "11c5c2ee",
   "metadata": {},
   "outputs": [
    {
     "name": "stdout",
     "output_type": "stream",
     "text": [
      "Absolute mean error: 774.3235570354714\n",
      "Relative error: 0.2349384556520177\n"
     ]
    }
   ],
   "source": [
    "Absolute_error = np.linalg.norm(y_pred_test - Y_test)\n",
    "Relative_error = Absolute_error / np.linalg.norm(Y_test)\n",
    "print(\"Absolute mean error:\", Absolute_error)\n",
    "print(\"Relative error:\", Relative_error)"
   ]
  },
  {
   "cell_type": "markdown",
   "id": "84a7e976",
   "metadata": {},
   "source": [
    "<b>Question 3</b> [<span style=\"color: red;\">4 + 3 + 3 = 10 points</span>]:<br>\n",
    "- Use polynomial basis function of degree 2 to train (fit) on <code>X_train,y_train</code>\n",
    "- Use <code>X_test</code> to predict <code>y_pred_test</code>.\n",
    "- Calculate absolute and relative errors between <code>y_pred_test</code> and <code>y_test</code>"
   ]
  },
  {
   "cell_type": "code",
   "execution_count": 14,
   "id": "c8e6663a",
   "metadata": {},
   "outputs": [
    {
     "name": "stdout",
     "output_type": "stream",
     "text": [
      "Absolute error: 487.57941558140783\n",
      "Relative error: 0.14793706566667422\n"
     ]
    }
   ],
   "source": [
    "from sklearn.preprocessing import PolynomialFeatures\n",
    "\n",
    "# create polynomial features of degree 2\n",
    "poly = PolynomialFeatures(degree=2)\n",
    "X_train_poly = poly.fit_transform(X_train)\n",
    "X_test_poly = poly.fit_transform(X_test)\n",
    "\n",
    "# fit the model using linear regression\n",
    "beta = np.linalg.lstsq(X_train_poly, Y_train, rcond=None)[0]\n",
    "\n",
    "# predict the target variable for the test set using the computed coefficients and the test features\n",
    "y_pred_test_2 = np.dot(X_test_poly, beta)\n",
    "\n",
    "# calculate the absolute and relative errors between y_test and y_pred_test\n",
    "absolute_error_2 = np.linalg.norm(y_pred_test_2 - Y_test)\n",
    "relative_error_2 = absolute_error_2 / np.linalg.norm(Y_test)\n",
    "\n",
    "print(\"Absolute error:\", absolute_error_2)\n",
    "print(\"Relative error:\", relative_error_2)"
   ]
  },
  {
   "cell_type": "markdown",
   "id": "472b6d3a",
   "metadata": {},
   "source": [
    "BONUS QUESTION : <b>Question 4</b>[<span style=\"color: red;\">10 points</span>]: \n",
    "Do the same as Question 2, but without using <code>scikit-learn</code>. (Hint: check out <code>LR_example_II.ipynb</code>). Your absolute error and relative error values should be similar but needn't be the same (for respective comparisons with values from Question 2."
   ]
  },
  {
   "cell_type": "code",
   "execution_count": 17,
   "id": "2cc028d8",
   "metadata": {},
   "outputs": [
    {
     "name": "stdout",
     "output_type": "stream",
     "text": [
      "beta_0 -511.36476722758084\n",
      "beta_1, beta_2: [10.76888973 25.78265944]\n"
     ]
    }
   ],
   "source": [
    "new_train_x = np.ones([127,3])\n",
    "#creating X1 to augment the ones in the first column\n",
    "new_train_x[:,1:3] = X_train \n",
    "#using leastsquares\n",
    "betas,_,_,_ = np.linalg.lstsq(new_train_x,Y_train,rcond=None)\n",
    "print(\"beta_0\",betas[0])\n",
    "print(\"beta_1, beta_2:\",betas[1:3])"
   ]
  },
  {
   "cell_type": "code",
   "execution_count": 18,
   "id": "7729606f",
   "metadata": {},
   "outputs": [],
   "source": [
    "new_test_x = np.ones([32,3])\n",
    "new_test_x[:,1:3] = X_test\n",
    "y_pred_test_3 = np.dot(X_test,betas[1:3])+betas[0]"
   ]
  },
  {
   "cell_type": "code",
   "execution_count": 20,
   "id": "d4dc7c90",
   "metadata": {},
   "outputs": [
    {
     "name": "stdout",
     "output_type": "stream",
     "text": [
      "Absolute error: 774.3235570354705\n",
      "Relative error: 0.23493845565201743\n"
     ]
    }
   ],
   "source": [
    "absolute_error_3 = np.linalg.norm(y_pred_test_3 - Y_test)\n",
    "\n",
    "relative_error_3 = absolute_error_3/np.linalg.norm(Y_test)\n",
    "print(\"Absolute error:\", absolute_error_3)\n",
    "print(\"Relative error:\", relative_error_3)"
   ]
  },
  {
   "cell_type": "markdown",
   "id": "81644cbe",
   "metadata": {},
   "source": [
    "~Chathurya"
   ]
  }
 ],
 "metadata": {
  "kernelspec": {
   "display_name": "Python 3 (ipykernel)",
   "language": "python",
   "name": "python3"
  },
  "language_info": {
   "codemirror_mode": {
    "name": "ipython",
    "version": 3
   },
   "file_extension": ".py",
   "mimetype": "text/x-python",
   "name": "python",
   "nbconvert_exporter": "python",
   "pygments_lexer": "ipython3",
   "version": "3.9.13"
  }
 },
 "nbformat": 4,
 "nbformat_minor": 5
}
