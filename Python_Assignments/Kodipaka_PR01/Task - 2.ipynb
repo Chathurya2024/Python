{
 "cells": [
  {
   "cell_type": "markdown",
   "id": "61f7eaae",
   "metadata": {},
   "source": [
    "Task 2:"
   ]
  },
  {
   "cell_type": "markdown",
   "id": "643d482e",
   "metadata": {},
   "source": [
    "I have chosen Malayali Christian naming convention : <first_name> <middle_names <family_name>"
   ]
  },
  {
   "cell_type": "markdown",
   "id": "661ebb94",
   "metadata": {},
   "source": [
    "Source -\n",
    "https://www.rocksea.org/kerala-christian-names-origin-english-equivalents/"
   ]
  },
  {
   "cell_type": "code",
   "execution_count": 40,
   "id": "77cdd687",
   "metadata": {},
   "outputs": [],
   "source": [
    "import pandas as pd\n",
    "import random"
   ]
  },
  {
   "cell_type": "code",
   "execution_count": 41,
   "id": "8fdf62e0",
   "metadata": {},
   "outputs": [
    {
     "name": "stdout",
     "output_type": "stream",
     "text": [
      "Male name is:  Joshua Timothy Daniel \n",
      "Female name is:  Sarah Joy Rebecca \n"
     ]
    }
   ],
   "source": [
    "class malayali_name_generator:\n",
    "    def __init__(self, filename):\n",
    "        self.data = pd.read_csv(filename)\n",
    "    \n",
    "    def full_name(self, gender=None):\n",
    "        if gender is not None:\n",
    "            filtered_data = self.data[(self.data[\"gender\"] == gender)].reset_index(drop=True)\n",
    "        else:\n",
    "            filtered_data = self.data\n",
    "        \n",
    "        first_name = random.choice(filtered_data[\"first\"])\n",
    "        middle_name = random.choice(filtered_data[\"middle\"])\n",
    "        family_name = random.choice(filtered_data[\"family\"])\n",
    "        return f\"{first_name} {middle_name} {family_name} \"\n",
    "\n",
    "generator = malayali_name_generator(\"Malayali_names.csv\")\n",
    "female_name = generator.full_name(\"f\")\n",
    "male_name = generator.full_name(\"m\")\n",
    "print(\"Male name is: \",male_name)\n",
    "print(\"Female name is: \",female_name)\n"
   ]
  },
  {
   "cell_type": "markdown",
   "id": "3374201b",
   "metadata": {},
   "source": [
    "~Chathurya"
   ]
  }
 ],
 "metadata": {
  "kernelspec": {
   "display_name": "Python 3 (ipykernel)",
   "language": "python",
   "name": "python3"
  },
  "language_info": {
   "codemirror_mode": {
    "name": "ipython",
    "version": 3
   },
   "file_extension": ".py",
   "mimetype": "text/x-python",
   "name": "python",
   "nbconvert_exporter": "python",
   "pygments_lexer": "ipython3",
   "version": "3.9.13"
  }
 },
 "nbformat": 4,
 "nbformat_minor": 5
}
