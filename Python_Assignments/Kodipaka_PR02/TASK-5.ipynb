{
 "cells": [
  {
   "cell_type": "code",
   "execution_count": 2,
   "id": "4ed03a78",
   "metadata": {},
   "outputs": [
    {
     "name": "stdout",
     "output_type": "stream",
     "text": [
      "Top 3 authors in cs.DB:\n",
      "'Philip S. Yu']               26\n",
      "'Wensheng Gan'                21\n",
      "'Wil M. P. van der Aalst']    17\n",
      "Name: authors, dtype: int64\n",
      "\n",
      "Top 3 authors in cs.RO:\n",
      "'Sven Behnke']       60\n",
      "'Roland Siegwart'    55\n",
      "'Dinesh Manocha']    44\n",
      "Name: authors, dtype: int64\n",
      "\n",
      "Top 3 authors in cs.GR:\n",
      "'Yu-Kun Lai'          16\n",
      "'Daniel Cohen-Or']    14\n",
      "'Dinesh Manocha']     13\n",
      "Name: authors, dtype: int64\n"
     ]
    }
   ],
   "source": [
    "import pandas as pd\n",
    "\n",
    "# Load the arxiv papers CSV file\n",
    "arxiv_papers = pd.read_csv(\"papers.csv\")\n",
    "\n",
    "# Filter the papers by primary category and publication year\n",
    "cs_db_papers = arxiv_papers[(arxiv_papers['primary_category'] == \"cs.DB\") & \n",
    "                            (arxiv_papers['published'].str.startswith('2018') |\n",
    "                             arxiv_papers['published'].str.startswith('2019') |\n",
    "                             arxiv_papers['published'].str.startswith('2020') |\n",
    "                             arxiv_papers['published'].str.startswith('2021') |\n",
    "                             arxiv_papers['published'].str.startswith('2022'))]\n",
    "cs_ro_papers = arxiv_papers[(arxiv_papers['primary_category'] == \"cs.RO\") & \n",
    "                            (arxiv_papers['published'].str.startswith('2018') |\n",
    "                             arxiv_papers['published'].str.startswith('2019') |\n",
    "                             arxiv_papers['published'].str.startswith('2020') |\n",
    "                             arxiv_papers['published'].str.startswith('2021') |\n",
    "                             arxiv_papers['published'].str.startswith('2022'))]\n",
    "cs_gr_papers = arxiv_papers[(arxiv_papers['primary_category'] == \"cs.GR\") & \n",
    "                            (arxiv_papers['published'].str.startswith('2018') |\n",
    "                             arxiv_papers['published'].str.startswith('2019') |\n",
    "                             arxiv_papers['published'].str.startswith('2020') |\n",
    "                             arxiv_papers['published'].str.startswith('2021') |\n",
    "                             arxiv_papers['published'].str.startswith('2022'))]\n",
    "\n",
    "# Split the author names and count their occurrences\n",
    "cs_db_authors = cs_db_papers['authors'].str.split(',').explode().str.strip().value_counts()\n",
    "cs_ro_authors = cs_ro_papers['authors'].str.split(',').explode().str.strip().value_counts()\n",
    "cs_gr_authors = cs_gr_papers['authors'].str.split(',').explode().str.strip().value_counts()\n",
    "\n",
    "# Find the top 3 authors for each category based on the number of papers they have published\n",
    "db_authors = cs_db_authors.nlargest(3)\n",
    "ro_authors = cs_ro_authors.nlargest(3)\n",
    "gr_authors = cs_gr_authors.nlargest(3)\n",
    "\n",
    "# Print the top 3 authors for each category\n",
    "print(\"Top 3 authors in cs.DB:\")\n",
    "print(db_authors)\n",
    "\n",
    "print(\"\\nTop 3 authors in cs.RO:\")\n",
    "print(ro_authors)\n",
    "\n",
    "print(\"\\nTop 3 authors in cs.GR:\")\n",
    "print(gr_authors)"
   ]
  },
  {
   "cell_type": "code",
   "execution_count": null,
   "id": "b395f304",
   "metadata": {},
   "outputs": [],
   "source": []
  }
 ],
 "metadata": {
  "kernelspec": {
   "display_name": "Python 3 (ipykernel)",
   "language": "python",
   "name": "python3"
  },
  "language_info": {
   "codemirror_mode": {
    "name": "ipython",
    "version": 3
   },
   "file_extension": ".py",
   "mimetype": "text/x-python",
   "name": "python",
   "nbconvert_exporter": "python",
   "pygments_lexer": "ipython3",
   "version": "3.9.13"
  }
 },
 "nbformat": 4,
 "nbformat_minor": 5
}
